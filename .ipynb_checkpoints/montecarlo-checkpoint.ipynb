{
 "cells": [
  {
   "cell_type": "markdown",
   "id": "592ed12c-cd3a-487d-ba5d-33b820f5d400",
   "metadata": {},
   "source": [
    "## Calculate the volume integral of a given 3D permeability field using SYCL parallel computing"
   ]
  },
  {
   "cell_type": "markdown",
   "id": "540135dd-949a-457a-b825-ca2be8ce1cfa",
   "metadata": {},
   "source": [
    "The problem statement solved by the given code is to calculate the volume integral of a given 3D permeability field using SYCL parallel computing.\n",
    "\n",
    "The code first initializes a 3D permeability field of size NX x NY x NZ with values 1, 2, 3, ..., NXNYNZ using the std::iota() function. Then, it creates SYCL buffers for the permeability field and a result variable.\n",
    "\n",
    "Next, the code submits a SYCL kernel using a parallel_for loop that calculates the volume integral of the permeability field. The kernel multiplies all the values in the permeability field together and stores the result in the result variable.\n",
    "\n",
    "The code runs the kernel on a chosen device, either a CPU or GPU, depending on the selector that is uncommented. The device name is printed to the console to confirm which device is being used. After the kernel completes, the result of the volume integral is printed to the console.\n",
    "\n",
    "Note that the volume integral of a 3D field is calculated by taking the product of all the values in the field. In this case, the permeability field represents the permeability of a porous medium, and the volume integral is a measure of the overall permeability of the medium.\n",
    "\n",
    "\n",
    "\n",
    "\n",
    "\n"
   ]
  },
  {
   "cell_type": "code",
   "execution_count": 1,
   "id": "556a47d0-8075-45cb-bd73-f4743473a33d",
   "metadata": {},
   "outputs": [
    {
     "name": "stdout",
     "output_type": "stream",
     "text": [
      "Overwriting lab/simple1.cpp\n"
     ]
    }
   ],
   "source": [
    "%%writefile lab/simple1.cpp\n",
    "#include <CL/sycl.hpp>\n",
    "#include <iostream>\n",
    "#include <random>\n",
    "\n",
    "//namespace sycl = cl::sycl;\n",
    "namespace my_sycl = cl::sycl;\n",
    "\n",
    "int main() {\n",
    "    constexpr size_t num_simulations = 10000;\n",
    "    constexpr size_t num_years = 30;\n",
    "    constexpr float initial_portfolio_value = 1000000.0f;\n",
    "    constexpr float desired_withdrawal_rate = 0.04f;\n",
    "    constexpr float expected_return_rate = 0.06f;\n",
    "    constexpr float stock_volatility = 0.15f;\n",
    "    constexpr float bond_volatility = 0.05f;\n",
    "    constexpr float stock_weight = 0.7f;\n",
    "    constexpr float bond_weight = 0.3f;\n",
    "    constexpr float inflation_rate = 0.02f;\n",
    "\n",
    "    std::mt19937 rng{std::random_device{}()};\n",
    "    std::normal_distribution<float> stock_dist{expected_return_rate, stock_volatility};\n",
    "    std::normal_distribution<float> bond_dist{expected_return_rate, bond_volatility};\n",
    "\n",
    "    std::vector<float> portfolio_values(num_simulations, initial_portfolio_value);\n",
    "    for (size_t year = 0; year < num_years; ++year) {\n",
    "        for (size_t i = 0; i < num_simulations; ++i) {\n",
    "            const float stock_return = stock_dist(rng);\n",
    "            const float bond_return = bond_dist(rng);\n",
    "            const float portfolio_return = stock_weight * stock_return + bond_weight * bond_return;\n",
    "            portfolio_values[i] *= 1 + portfolio_return;\n",
    "            portfolio_values[i] -= desired_withdrawal_rate * portfolio_values[i];\n",
    "            portfolio_values[i] /= (1 + inflation_rate);\n",
    "        }\n",
    "    }\n",
    "\n",
    "    const float success_threshold = 1.0f; // multiple of initial portfolio value\n",
    "    const size_t num_successful_simulations = std::count_if(\n",
    "        portfolio_values.begin(), portfolio_values.end(),\n",
    "        [success_threshold](const float value) { return value >= success_threshold * initial_portfolio_value; });\n",
    "    const float success_rate = static_cast<float>(num_successful_simulations) / num_simulations;\n",
    "    std::cout << \"Success rate: \" << success_rate << std::endl;\n",
    "\n",
    "    return 0;\n",
    "}\n"
   ]
  },
  {
   "cell_type": "code",
   "execution_count": 3,
   "id": "06c0b31d-0988-4542-96c2-b9fcf0da12eb",
   "metadata": {},
   "outputs": [
    {
     "name": "stdout",
     "output_type": "stream",
     "text": [
      "Job has been submitted to Intel(R) DevCloud and will execute soon.\n",
      "\n",
      "Job ID                    Name             User            Time Use S Queue\n",
      "------------------------- ---------------- --------------- -------- - -----\n",
      "2262219.v-qsvr-1           ...ub-singleuser u182761         00:00:05 R jupyterhub     \n",
      "2262224.v-qsvr-1           run_simple1.sh   u182761         00:00:03 R batch          \n",
      "2262225.v-qsvr-1           run_simple1.sh   u182761                0 Q batch          \n",
      "\n",
      "Waiting for Output ███████████ Done⬇\n",
      "\n",
      "########################################################################\n",
      "#      Date:           Fri 24 Mar 2023 08:57:28 AM PDT\n",
      "#    Job ID:           2262225.v-qsvr-1.aidevcloud\n",
      "#      User:           u182761\n",
      "# Resources:           cput=75:00:00,neednodes=1:gpu:ppn=2,nodes=1:gpu:ppn=2,walltime=06:00:00\n",
      "########################################################################\n",
      "\n",
      "## u182761 is compiling DPCPP_Essentials Module1 -- oneAPI Techgig example - 1 of 1 simple1.cpp\n",
      "Success rate: 0.3422\n",
      "\n",
      "########################################################################\n",
      "# End of output for job 2262225.v-qsvr-1.aidevcloud\n",
      "# Date: Fri 24 Mar 2023 08:57:35 AM PDT\n",
      "########################################################################\n",
      "\n",
      "icpx: warning: use of 'dpcpp' is deprecated and will be removed in a future release. Use 'icpx -fsycl' [-Wdeprecated]\n",
      "Job Completed in 11 seconds.\n"
     ]
    }
   ],
   "source": [
    "! chmod 755 q; chmod 755 run_simple1.sh;if [ -x \"$(command -v qsub)\" ]; then ./q run_simple1.sh; else ./run_simple1.sh; fi"
   ]
  },
  {
   "cell_type": "code",
   "execution_count": null,
   "id": "e5a24874-2b07-4b8a-a712-d4c5fd54d55e",
   "metadata": {},
   "outputs": [],
   "source": []
  }
 ],
 "metadata": {
  "kernelspec": {
   "display_name": "Python 3 (Intel® oneAPI 2023.0)",
   "language": "python",
   "name": "c009-intel_distribution_of_python_3_oneapi-beta05-python"
  },
  "language_info": {
   "codemirror_mode": {
    "name": "ipython",
    "version": 3
   },
   "file_extension": ".py",
   "mimetype": "text/x-python",
   "name": "python",
   "nbconvert_exporter": "python",
   "pygments_lexer": "ipython3",
   "version": "3.9.15"
  }
 },
 "nbformat": 4,
 "nbformat_minor": 5
}
